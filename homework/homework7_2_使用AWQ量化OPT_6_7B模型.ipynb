{
  "nbformat": 4,
  "nbformat_minor": 0,
  "metadata": {
    "colab": {
      "provenance": [],
      "authorship_tag": "ABX9TyOU3VQyDPwuYhyvylQZikum",
      "include_colab_link": true
    },
    "kernelspec": {
      "name": "python3",
      "display_name": "Python 3"
    },
    "language_info": {
      "name": "python"
    }
  },
  "cells": [
    {
      "cell_type": "markdown",
      "metadata": {
        "id": "view-in-github",
        "colab_type": "text"
      },
      "source": [
        "<a href=\"https://colab.research.google.com/github/jiangxueqi/LLM-quickstart/blob/main/homework/homework7_2_%E4%BD%BF%E7%94%A8AWQ%E9%87%8F%E5%8C%96OPT_6_7B%E6%A8%A1%E5%9E%8B.ipynb\" target=\"_parent\"><img src=\"https://colab.research.google.com/assets/colab-badge.svg\" alt=\"Open In Colab\"/></a>"
      ]
    },
    {
      "cell_type": "code",
      "execution_count": null,
      "metadata": {
        "id": "BvL8XRXXZGur"
      },
      "outputs": [],
      "source": [
        "import json\n",
        "import os\n",
        "\n",
        "from google.colab import drive\n",
        "drive.mount('/content/drive')"
      ]
    },
    {
      "cell_type": "code",
      "source": [
        "!pip install -r \"/content/drive/MyDrive/Colab Notebooks/AI大模型微调训练营/6_实战Transformers模型微调/requirements.txt\""
      ],
      "metadata": {
        "id": "E71fVusYZPOm"
      },
      "execution_count": null,
      "outputs": []
    },
    {
      "cell_type": "markdown",
      "source": [
        "#1、量化模型"
      ],
      "metadata": {
        "id": "3cEsyCaIZTR6"
      }
    },
    {
      "cell_type": "code",
      "source": [
        "from awq import AutoAWQForCausalLM\n",
        "from transformers import AutoTokenizer\n",
        "\n",
        "model_path = \"facebook/opt-6.7b\"\n",
        "quant_path = \"models/opt-6.7bm-awq\"\n",
        "quant_config = {\"zero_point\": True, \"q_group_size\": 128, \"w_bit\": 4, \"version\": \"GEMM\"}\n",
        "\n",
        "# 加载模型\n",
        "model = AutoAWQForCausalLM.from_pretrained(model_path, device_map=\"cuda\")\n",
        "tokenizer = AutoTokenizer.from_pretrained(model_path, trust_remote_code=True)\n",
        "\n",
        "# 量化模型\n",
        "model.quantize(tokenizer, quant_config=quant_config)"
      ],
      "metadata": {
        "id": "HvzlBIbFZVfj"
      },
      "execution_count": null,
      "outputs": []
    },
    {
      "cell_type": "markdown",
      "source": [
        "#2、Transformers兼容性配置"
      ],
      "metadata": {
        "id": "OrPdK8xZZs4R"
      }
    },
    {
      "cell_type": "code",
      "source": [
        "from transformers import AwqConfig, AutoConfig\n",
        "\n",
        "# 修改配置文件以使其与transformers集成兼容\n",
        "quantization_config = AwqConfig(\n",
        "    bits=quant_config[\"w_bit\"],\n",
        "    group_size=quant_config[\"q_group_size\"],\n",
        "    zero_point=quant_config[\"zero_point\"],\n",
        "    version=quant_config[\"version\"].lower(),\n",
        ").to_dict()\n",
        "\n",
        "# 预训练的transformers模型存储在model属性中，我们需要传递一个字典\n",
        "model.model.config.quantization_config = quantization_config"
      ],
      "metadata": {
        "id": "s6jcTKBcZxiM"
      },
      "execution_count": null,
      "outputs": []
    },
    {
      "cell_type": "code",
      "source": [
        "# 保存模型权重\n",
        "model.save_quantized(quant_path)\n",
        "tokenizer.save_pretrained(quant_path)  # 保存分词器"
      ],
      "metadata": {
        "id": "cE3D4xMHZ2fo"
      },
      "execution_count": null,
      "outputs": []
    },
    {
      "cell_type": "markdown",
      "source": [
        "#3、使用GPU加载量化模型"
      ],
      "metadata": {
        "id": "04tFdiKVZ5FV"
      }
    },
    {
      "cell_type": "code",
      "source": [
        "from transformers import AutoTokenizer, AutoModelForCausalLM\n",
        "\n",
        "tokenizer = AutoTokenizer.from_pretrained(quant_path)\n",
        "model = AutoModelForCausalLM.from_pretrained(quant_path, device_map=\"cuda\").to(0)"
      ],
      "metadata": {
        "id": "mc_qYQNYZ-qe"
      },
      "execution_count": null,
      "outputs": []
    },
    {
      "cell_type": "code",
      "source": [
        "def generate_text(text):\n",
        "    inputs = tokenizer(text, return_tensors=\"pt\").to(0)\n",
        "    out = model.generate(**inputs, max_new_tokens=64)\n",
        "    return tokenizer.decode(out[0], skip_special_tokens=True)"
      ],
      "metadata": {
        "id": "kpQwOFaBaAcV"
      },
      "execution_count": null,
      "outputs": []
    },
    {
      "cell_type": "code",
      "source": [
        "result = generate_text(\"Merry Christmas! I'm glad to\")\n",
        "print(result)"
      ],
      "metadata": {
        "id": "BAAcHGdHaJjO"
      },
      "execution_count": null,
      "outputs": []
    }
  ]
}