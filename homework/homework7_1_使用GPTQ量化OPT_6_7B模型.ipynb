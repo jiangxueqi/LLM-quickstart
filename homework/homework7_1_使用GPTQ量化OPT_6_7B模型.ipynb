{
  "nbformat": 4,
  "nbformat_minor": 0,
  "metadata": {
    "colab": {
      "provenance": [],
      "authorship_tag": "ABX9TyNSo9HAe7vU1MWaoPPbE3lM",
      "include_colab_link": true
    },
    "kernelspec": {
      "name": "python3",
      "display_name": "Python 3"
    },
    "language_info": {
      "name": "python"
    }
  },
  "cells": [
    {
      "cell_type": "markdown",
      "metadata": {
        "id": "view-in-github",
        "colab_type": "text"
      },
      "source": [
        "<a href=\"https://colab.research.google.com/github/jiangxueqi/LLM-quickstart/blob/main/homework/homework7_1_%E4%BD%BF%E7%94%A8GPTQ%E9%87%8F%E5%8C%96OPT_6_7B%E6%A8%A1%E5%9E%8B.ipynb\" target=\"_parent\"><img src=\"https://colab.research.google.com/assets/colab-badge.svg\" alt=\"Open In Colab\"/></a>"
      ]
    },
    {
      "cell_type": "code",
      "source": [
        "import json\n",
        "import os\n",
        "\n",
        "from google.colab import drive\n",
        "drive.mount('/content/drive')"
      ],
      "metadata": {
        "id": "MC5bvL5BKzwV"
      },
      "execution_count": null,
      "outputs": []
    },
    {
      "cell_type": "code",
      "source": [
        "!pip install -r \"/content/drive/MyDrive/Colab Notebooks/AI大模型微调训练营/6_实战Transformers模型微调/requirements.txt\""
      ],
      "metadata": {
        "id": "njmEvVPsK3iX"
      },
      "execution_count": null,
      "outputs": []
    },
    {
      "cell_type": "markdown",
      "source": [
        "#1、使用默认数据集C4"
      ],
      "metadata": {
        "id": "epokM5AVJ3nb"
      }
    },
    {
      "cell_type": "code",
      "execution_count": null,
      "metadata": {
        "id": "eXF0-W57J26o"
      },
      "outputs": [],
      "source": [
        "from transformers import AutoModelForCausalLM, AutoTokenizer, GPTQConfig\n",
        "import torch\n",
        "\n",
        "model_id = \"facebook/opt-6.7b\"\n",
        "\n",
        "quantization_config = GPTQConfig(\n",
        "     bits=4,     # 量化精度\n",
        "     group_size=128, # 超参数，默认128\n",
        "     dataset=\"c4\",  # 使用的数据集\n",
        "     desc_act=False,\n",
        ")"
      ]
    },
    {
      "cell_type": "code",
      "source": [
        "tokenizer = AutoTokenizer.from_pretrained(model_id)\n",
        "quant_model = AutoModelForCausalLM.from_pretrained(model_id, quantization_config=quantization_config, device_map='auto')"
      ],
      "metadata": {
        "id": "meAVp2rxKOxM"
      },
      "execution_count": null,
      "outputs": []
    },
    {
      "cell_type": "markdown",
      "source": [
        "# 2、检查量化模型正确性"
      ],
      "metadata": {
        "id": "nVFqiPlhKSO4"
      }
    },
    {
      "cell_type": "code",
      "source": [
        "quant_model.model.decoder.layers[0].self_attn.q_proj.__dict__"
      ],
      "metadata": {
        "id": "0kF812WzKXja"
      },
      "execution_count": null,
      "outputs": []
    },
    {
      "cell_type": "markdown",
      "source": [
        "#3、使用GPU加载量化后的模型并生成文本"
      ],
      "metadata": {
        "id": "vHE82RXXKatb"
      }
    },
    {
      "cell_type": "code",
      "source": [
        "text = \"Merry Christmas! I'm glad to\"\n",
        "inputs = tokenizer(text, return_tensors=\"pt\").to(0)    # return_tensors=\"pt\"，返回的tensor是pytoch的数据样式\n",
        "\n",
        "out = quant_model.generate(**inputs, max_new_tokens=64)  # max_new_tokens=\"64\"，生成的内容最大长度\n",
        "print(tokenizer.decode(out[0], skip_special_tokens=True))  # skip_special_tokens，有多句话时候处理分割符【CLS】"
      ],
      "metadata": {
        "id": "UUhoYUWyKk0T"
      },
      "execution_count": null,
      "outputs": []
    }
  ]
}